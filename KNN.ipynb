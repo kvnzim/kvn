{
 "cells": [
  {
   "cell_type": "markdown",
   "metadata": {},
   "source": [
    "# Exercise 1: K Nearest Neighbors\n",
    "\n",
    "## Read the following instructions carefully:\n",
    "\n",
    "1. This jupyter notebook contains all the step by step instructions needed for this exercise.\n",
    "1. Write efficient code whenever possible. \n",
    "1. Use the documentation and Google. There are python methods and packages for most logic in this exercise. \n",
    "1. Test your code as it must run without errors. \n",
    "1. Before you sumbit the exercise, restart the notebook and run it again to make sure your code works as intended.\n",
    "1. Write your own code. Cheating will not be tolerated.\n",
    "1. Submission includes this notebook only with the exercise number and your ID as the filename. For example: `hw1_123456789_987654321.ipynb` if you submitted in pairs and `hw1_123456789.ipynb` if you submitted the exercise alone.\n",
    "\n",
    "\n",
    "The goal of this exercise is to get you familiar with `sklearn` and the KNN model. sklearn (aka scikit learn) is a free machine learning library for the Python programming language. It features various classification, regression and clustering algorithms.\n",
    "\n",
    "## In this exercise you will perform the folllowing:\n",
    "\n",
    "1. Use sklearn to train a KNN classification algorithm.\n",
    "2. Predict new instances using your trained model."
   ]
  },
  {
   "cell_type": "markdown",
   "metadata": {
    "scrolled": true
   },
   "source": [
    "# Part 1: Training a KNN Classifier using sklearn (80 Points)\n",
    "\n",
    "## Data Preprocessing\n",
    "\n",
    "Before diving into the algorithm, we need to handle our data. We will train our KNN classifier on the MNIST dataset that includes images of the digits 0-9."
   ]
  },
  {
   "cell_type": "code",
   "execution_count": 2,
   "metadata": {},
   "outputs": [
    {
     "name": "stdout",
     "output_type": "stream",
     "text": [
      "X_train shape:  (1607, 256)\n",
      "y_train shape:  (1607,)\n",
      "X_test shape:  (400, 256)\n",
      "y_test shape:  (400,)\n"
     ]
    }
   ],
   "source": [
    "import pandas as pd\n",
    "from sklearn.model_selection import train_test_split\n",
    "\n",
    "def load_data(filename):\n",
    "    data = pd.read_csv(filename, delimiter=' ', header=None).dropna(axis=1)\n",
    "    X = data.drop([0], axis=1).values\n",
    "    y = data[0].values\n",
    "    return X, y\n",
    "\n",
    "X, y = load_data('digit.data')\n",
    "\n",
    "train_size = 1607\n",
    "test_size  = 400\n",
    "X_train, X_test, y_train, y_test = train_test_split(X, y, \n",
    "                                                    train_size = train_size, \n",
    "                                                    test_size = test_size, \n",
    "                                                    random_state=0)\n",
    "\n",
    "print(\"X_train shape: \", X_train.shape)\n",
    "print(\"y_train shape: \", y_train.shape)\n",
    "print(\"X_test shape: \", X_test.shape)\n",
    "print(\"y_test shape: \", y_test.shape)"
   ]
  },
  {
   "cell_type": "markdown",
   "metadata": {},
   "source": [
    "We can learn that our dataset has 1,607 training examples and 400 test examples and that each image is a vector with 256 features. If we would like to visualize an instance as an image, we first need to reshape it into a 16x16 matrix. Run the cell below to see different examples in the training set."
   ]
  },
  {
   "cell_type": "code",
   "execution_count": 3,
   "metadata": {},
   "outputs": [
    {
     "name": "stdout",
     "output_type": "stream",
     "text": [
      "Digit:  0\n"
     ]
    },
    {
     "data": {
      "image/png": "[encoded data removed]",
      "text/plain": [
       "<Figure size 432x288 with 1 Axes>"
      ]
     },
     "metadata": {
      "needs_background": "light"
     },
     "output_type": "display_data"
    }
   ],
   "source": [
    "%matplotlib inline\n",
    "import matplotlib.pyplot as plt\n",
    "import numpy as np\n",
    "\n",
    "def vec_to_img(vec):\n",
    "    return vec.reshape((16, 16))\n",
    "\n",
    "def imshow(images, labels, index):\n",
    "    plt.imshow(vec_to_img(images[index]), cmap='gray', interpolation='nearest');\n",
    "    print(\"Digit: \", labels[index])\n",
    "    \n",
    "random_index = np.random.randint(0, X_train.shape[0])\n",
    "imshow(X_train, y_train, random_index)"
   ]
  },
  {
   "cell_type": "markdown",
   "metadata": {},
   "source": [
    "## Training a classifier\n",
    "\n",
    "1. Read the [documentation](https://scikit-learn.org/stable/modules/generated/sklearn.neighbors.KNeighborsClassifier.html) and understand how to train a KNN classifier. Use the default configurations for now.\n",
    "2. Make sure you understand how to evaluate the performance of your model using the testing dataset [using the score method](https://scikit-learn.org/stable/modules/generated/sklearn.neighbors.KNeighborsClassifier.html). "
   ]
  },
  {
   "cell_type": "code",
   "execution_count": 4,
   "metadata": {},
   "outputs": [
    {
     "data": {
      "text/plain": [
       "KNeighborsClassifier(algorithm='auto', leaf_size=30, metric='minkowski',\n",
       "                     metric_params=None, n_jobs=None, n_neighbors=5, p=2,\n",
       "                     weights='uniform')"
      ]
     },
     "execution_count": 4,
     "metadata": {},
     "output_type": "execute_result"
    }
   ],
   "source": [
    "from sklearn.neighbors import KNeighborsClassifier\n",
    "# This is a working example to get you started.\n",
    "knn = KNeighborsClassifier()\n",
    "knn.fit(X_train, y_train)"
   ]
  },
  {
   "cell_type": "markdown",
   "metadata": {},
   "source": [
    "1. Train 10 models with different values for `k` from 1 to 10.\n",
    "2. Use the graph of the perfomance of the model as a function of `k` on both the training and testing data and explain the results."
   ]
  },
  {
   "cell_type": "code",
   "execution_count": 6,
   "metadata": {},
   "outputs": [],
   "source": [
    "train_acc = []\n",
    "test_acc = []\n",
    "\n",
    "# Train 10 models with different values for k from 1 to 10.\n",
    "# Save the results of the training and testing accuracy in the \n",
    "# python lists train_acc and test_acc respectively.\n",
    "\n",
    "##### YOUR CODE STARTS HERE ~5 lines #####\n",
    "for k in range(1,11):\n",
    "    knn = KNeighborsClassifier(n_neighbors=k)\n",
    "    knn.fit(X_train, y_train)\n",
    "    test_score = knn.score(X_test, y_test)\n",
    "    test_acc.append(test_score)\n",
    "    train_score = knn.score(X_train, y_train)\n",
    "    train_acc.append(train_score)\n",
    "#####  YOUR CODE ENDS HERE  #####"
   ]
  },
  {
   "cell_type": "code",
   "execution_count": 7,
   "metadata": {},
   "outputs": [
    {
     "data": {
      "image/png": "[encoded data removed]",
      "text/plain": [
       "<Figure size 432x288 with 1 Axes>"
      ]
     },
     "metadata": {
      "needs_background": "light"
     },
     "output_type": "display_data"
    }
   ],
   "source": [
    "# This will plot the accuracies as a function of k.\n",
    "fig = plt.figure()\n",
    "ax1 = fig.add_subplot(111)\n",
    "\n",
    "ax1.scatter(range(1, 11), train_acc, s=10, c='b', marker=\"s\", label='Training Accuracy')\n",
    "ax1.scatter(range(1, 11) ,test_acc, s=10, c='r', marker=\"o\", label='Testing Accuracy')\n",
    "ax1.set_ylabel(\"Accuracy\")\n",
    "ax1.set_xlabel(\"k\")\n",
    "\n",
    "plt.legend(loc='upper left');\n",
    "plt.show()"
   ]
  },
  {
   "cell_type": "markdown",
   "metadata": {},
   "source": [
    "## Q: Explain the results. What can you say about the training error as a function of k? What about the testing error? Which k do you recommend?"
   ]
  },
  {
   "cell_type": "markdown",
   "metadata": {},
   "source": [
    "by looking at the chart, we can assume when k = [1,10] the test accuracy results is around 90% in addition to that we can see the connection between the accuracy and number of k when k is rising the accuracy is decreasing. i choose k = 10\n"
   ]
  },
  {
   "cell_type": "markdown",
   "metadata": {},
   "source": [
    "Train a KNN classifier with your chosen k on 8 different training sample sizes between 10 and 100 (use the \"sample_x_y\" function to generate them). For each sample size, calculate the error on the full test dataset. Repeat each sample size 5 times with a different random training sample and average the measurements of the error for each size. Draw a plot of the average test error as a function of the training sample size. Dont forget to label the axes."
   ]
  },
  {
   "cell_type": "code",
   "execution_count": 8,
   "metadata": {},
   "outputs": [],
   "source": [
    "import random\n",
    "def sample_x_y(x, y, sample_size):\n",
    "    \"\"\" Samples sample_size matching examples from x and y \"\"\"\n",
    "    idx = np.random.choice(np.arange(len(x)), sample_size, replace=False)\n",
    "    return x[idx], y[idx]\n",
    "\n",
    "##### YOUR CODE STARTS HERE ~15 lines #####\n",
    "sample_sizes = [10, 15, 30, 50, 55, 75, 90, 100]\n",
    "avg_error_score = []\n",
    "\n",
    "for sample_size in sample_sizes:\n",
    "    error_score , total_error = 0, 0\n",
    "    for i in range(1,6):\n",
    "        a, b = sample_x_y(X_train, y_train, sample_size)\n",
    "        knn = KNeighborsClassifier(n_neighbors=10)\n",
    "        knn.fit(a, b)\n",
    "        error_score = 1 - knn.score(X_test, y_test)\n",
    "        total_error += error_score\n",
    "    avg_error_score.append(error_score / 5)\n",
    "#####  YOUR CODE ENDS HERE  #####"
   ]
  },
  {
   "cell_type": "markdown",
   "metadata": {},
   "source": [
    "Draw a plot of the average test error as a function of the training sample size. Dont forget to label the axes."
   ]
  },
  {
   "cell_type": "code",
   "execution_count": 12,
   "metadata": {},
   "outputs": [
    {
     "data": {
      "image/png": "[encoded data removed]",
      "text/plain": [
       "<Figure size 432x288 with 1 Axes>"
      ]
     },
     "metadata": {
      "needs_background": "light"
     },
     "output_type": "display_data"
    }
   ],
   "source": [
    "##### YOUR CODE STARTS HERE ~10 lines #####\n",
    "fig = plt.figure()\n",
    "ax1 = fig.add_subplot(111)\n",
    "\n",
    "ax1.scatter(sample_sizes, avg_error_score, s=10, c='y', marker=\"d\", label='Error Accuracy')\n",
    "ax1.set_ylabel(\"Error\")\n",
    "ax1.set_xlabel(\"Sample sizes\")\n",
    "\n",
    "plt.legend(loc='upper left');\n",
    "plt.show()\n",
    "#####  YOUR CODE ENDS HERE  #####"
   ]
  },
  {
   "cell_type": "markdown",
   "metadata": {},
   "source": [
    "## Q: Did you get different results in different runs with the same sample size? Why?"
   ]
  },
  {
   "cell_type": "markdown",
   "metadata": {},
   "source": [
    "A: The reason for the different results in the different runs is because every single time we are using the sampled method we are using the radnom method this causing the model to learn from a different train set every time. the result of this method are the different outputs."
   ]
  },
  {
   "cell_type": "markdown",
   "metadata": {},
   "source": [
    "## Q Do you observe a trend in the graph? Do you think adding more data to the full training set will improve the classifier performance? Explain."
   ]
  },
  {
   "cell_type": "markdown",
   "metadata": {},
   "source": [
    "A: in my opinion the trend we can observe from the plot is while the train size is getting bigger the model accuracy is raising but we can see eventually the accuracy is getting to a celinig point that it cant push it higher."
   ]
  },
  {
   "cell_type": "markdown",
   "metadata": {},
   "source": [
    "Train a KNN classifier with your chosen k on the whole training set. For the output of this run, provide a **[confusion matrix](https://scikit-learn.org/stable/modules/generated/sklearn.metrics.confusion_matrix.html)**: a table where each column and each row correspond to one of the digits, and the value in each cell (digit1, digit2) is the number of images in the **test set** that are actually digit1, and were predicted by the algorithm to be digit2. The main diagonal is the correct predictions for each digits. "
   ]
  },
  {
   "cell_type": "code",
   "execution_count": null,
   "metadata": {},
   "outputs": [],
   "source": [
    "from sklearn.metrics import confusion_matrix\n",
    "\n",
    "##### YOUR CODE STARTS HERE ~5 lines #####\n",
    "knn = KNeighborsClassifier(n_neighbors=10)\n",
    "knn.fit(X_train, y_train)\n",
    "y_pred = knn.predict(X_test)\n",
    "confusion_matrix(y_test, y_pred)\n",
    "#####  YOUR CODE ENDS HERE  #####"
   ]
  },
  {
   "cell_type": "markdown",
   "metadata": {},
   "source": [
    "## Q: What are the 3 highest off-diagonal values in the confusion matrix? Can you explain the reason they are there?"
   ]
  },
  {
   "cell_type": "markdown",
   "metadata": {},
   "source": [
    "A: The 3 highest values are the prediction of 8 as 3 and also the number 0 as 2 and 4 as 1. im assuming the model got confused by the resemblance of the numbers in example 3 looks like a half 8 so the model didnt learn yet that 3 stand for himself"
   ]
  },
  {
   "cell_type": "code",
   "execution_count": 13,
   "metadata": {},
   "outputs": [
    {
     "data": {
      "image/png": "[encoded data removed]",
      "text/plain": [
       "<Figure size 432x288 with 1 Axes>"
      ]
     },
     "metadata": {
      "needs_background": "light"
     },
     "output_type": "display_data"
    }
   ],
   "source": [
    "fig = plt.figure()\n",
    "ax1 = fig.add_subplot(111)\n",
    "\n",
    "counts = pd.Series(y_train).value_counts(normalize=True).sort_index()\n",
    "ax1.bar(range(1, 11), counts)\n",
    "ax1.set_ylabel(\"Ratio\")\n",
    "ax1.set_xlabel(\"Label\")\n",
    "\n",
    "plt.show()"
   ]
  },
  {
   "cell_type": "markdown",
   "metadata": {},
   "source": [
    "## Q: Above is the distritbution of the labels in the training set. Can this information further explain some of the off-diagonal values in the confusion matrix? How?"
   ]
  },
  {
   "cell_type": "markdown",
   "metadata": {},
   "source": [
    "A: The most common number in the training set is 0 also at the confusion matrix we can understand that by the uniqe look of digit none of the digits look like 0. but because 0 is the most common digit that the model can figure out when the model cant recognize the digit it will assume the digit is 0."
   ]
  },
  {
   "cell_type": "markdown",
   "metadata": {},
   "source": [
    "## Q2 (20 Points)\n",
    "\n",
    "Consider a distribution over rabbits and food preference. Each rabbit likes either carrot or lettuce.\n",
    "For each rabbit, we measure their weight in kg and their age in months. In principle, a rabbit can live\n",
    "until age 48 months and weigh as much as 4kg."
   ]
  },
  {
   "cell_type": "code",
   "execution_count": 14,
   "metadata": {},
   "outputs": [
    {
     "data": {
      "text/html": [
       "<div>\n",
       "<style scoped>\n",
       "    .dataframe tbody tr th:only-of-type {\n",
       "        vertical-align: middle;\n",
       "    }\n",
       "\n",
       "    .dataframe tbody tr th {\n",
       "        vertical-align: top;\n",
       "    }\n",
       "\n",
       "    .dataframe thead th {\n",
       "        text-align: right;\n",
       "    }\n",
       "</style>\n",
       "<table border=\"1\" class=\"dataframe\">\n",
       "  <thead>\n",
       "    <tr style=\"text-align: right;\">\n",
       "      <th></th>\n",
       "      <th>age</th>\n",
       "      <th>weight</th>\n",
       "      <th>food</th>\n",
       "      <th>probability</th>\n",
       "    </tr>\n",
       "  </thead>\n",
       "  <tbody>\n",
       "    <tr>\n",
       "      <td>0</td>\n",
       "      <td>7</td>\n",
       "      <td>1</td>\n",
       "      <td>carrot</td>\n",
       "      <td>0.00</td>\n",
       "    </tr>\n",
       "    <tr>\n",
       "      <td>1</td>\n",
       "      <td>7</td>\n",
       "      <td>1</td>\n",
       "      <td>lettuce</td>\n",
       "      <td>0.10</td>\n",
       "    </tr>\n",
       "    <tr>\n",
       "      <td>2</td>\n",
       "      <td>7</td>\n",
       "      <td>2</td>\n",
       "      <td>carrot</td>\n",
       "      <td>0.00</td>\n",
       "    </tr>\n",
       "    <tr>\n",
       "      <td>3</td>\n",
       "      <td>7</td>\n",
       "      <td>2</td>\n",
       "      <td>lettuce</td>\n",
       "      <td>0.50</td>\n",
       "    </tr>\n",
       "    <tr>\n",
       "      <td>4</td>\n",
       "      <td>13</td>\n",
       "      <td>1</td>\n",
       "      <td>carrot</td>\n",
       "      <td>0.15</td>\n",
       "    </tr>\n",
       "    <tr>\n",
       "      <td>5</td>\n",
       "      <td>13</td>\n",
       "      <td>1</td>\n",
       "      <td>lettuce</td>\n",
       "      <td>0.00</td>\n",
       "    </tr>\n",
       "    <tr>\n",
       "      <td>6</td>\n",
       "      <td>13</td>\n",
       "      <td>2</td>\n",
       "      <td>carrot</td>\n",
       "      <td>0.00</td>\n",
       "    </tr>\n",
       "    <tr>\n",
       "      <td>7</td>\n",
       "      <td>13</td>\n",
       "      <td>2</td>\n",
       "      <td>lettuce</td>\n",
       "      <td>0.25</td>\n",
       "    </tr>\n",
       "  </tbody>\n",
       "</table>\n",
       "</div>"
      ],
      "text/plain": [
       "   age  weight     food  probability\n",
       "0    7       1   carrot         0.00\n",
       "1    7       1  lettuce         0.10\n",
       "2    7       2   carrot         0.00\n",
       "3    7       2  lettuce         0.50\n",
       "4   13       1   carrot         0.15\n",
       "5   13       1  lettuce         0.00\n",
       "6   13       2   carrot         0.00\n",
       "7   13       2  lettuce         0.25"
      ]
     },
     "execution_count": 14,
     "metadata": {},
     "output_type": "execute_result"
    }
   ],
   "source": [
    "data = [[7,  1, 'carrot', 0],\n",
    "        [7,  1, 'lettuce', 0.1],\n",
    "        [7,  2, 'carrot', 0],\n",
    "        [7,  2, 'lettuce', 0.5],\n",
    "        [13, 1, 'carrot', 0.15],\n",
    "        [13, 1, 'lettuce', 0],\n",
    "        [13, 2, 'carrot', 0],\n",
    "        [13, 2, 'lettuce', 0.25]]\n",
    "\n",
    "columns = ['age', 'weight', 'food', 'probability']\n",
    "df = pd.DataFrame(data, columns=columns)\n",
    "df"
   ]
  },
  {
   "cell_type": "markdown",
   "metadata": {},
   "source": [
    "### 1. What are $\\mathcal{X}$ and $\\mathcal{Y}$ in this problem?\n",
    "\n",
    "### 2. We have a distribution $D$ over rabbits with the following probabilities (all other values have zero probability). What is the best predictior $\\hat{h}$ for the distribution $D$? Write the value of the predictor $\\hat{h}(x)$ for each possible $x$ with non-zero probability in the distribution. What is the expected error of $\\hat{h}$ on $D$?\n",
    "\n",
    "### 3. Now assume the weight is unavailable to us, what is the new distribution $D'$? What is the minimal error possible to achieve for this distribution?"
   ]
  },
  {
   "cell_type": "markdown",
   "metadata": {},
   "source": [
    "A: \n",
    "\n",
    "1. Y - Food Preference,  X - Rabbits\n",
    "   \n",
    "2. Best predictior $\\hat{h}$ for D is: if age = 7 --> Lettuce | if age = 13 & weight = 1 --> Carrot | if age = 13 & weight = 2 --> Lettuce\n",
    "\n",
    "3. New D is: (if age = 7 --> Lettuce | if age = 13 --> Lettuce) & error is 0.15\n",
    "\n"
   ]
  },
  {
   "cell_type": "code",
   "execution_count": null,
   "metadata": {},
   "outputs": [],
   "source": []
  }
 ],
 "metadata": {
  "kernelspec": {
   "display_name": "Python 3",
   "language": "python",
   "name": "python3"
  },
  "language_info": {
   "codemirror_mode": {
    "name": "ipython",
    "version": 3
   },
   "file_extension": ".py",
   "mimetype": "text/x-python",
   "name": "python",
   "nbconvert_exporter": "python",
   "pygments_lexer": "ipython3",
   "version": "3.7.4"
  },
  "toc": {
   "base_numbering": 1,
   "nav_menu": {},
   "number_sections": true,
   "sideBar": true,
   "skip_h1_title": false,
   "title_cell": "Table of Contents",
   "title_sidebar": "Contents",
   "toc_cell": false,
   "toc_position": {},
   "toc_section_display": true,
   "toc_window_display": false
  }
 },
 "nbformat": 4,
 "nbformat_minor": 2
}
