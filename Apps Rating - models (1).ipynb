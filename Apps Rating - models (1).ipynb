{
 "cells": [
  {
   "cell_type": "code",
   "execution_count": 1,
   "metadata": {},
   "outputs": [],
   "source": [
    "# import libraries\n",
    "%matplotlib inline\n",
    "import pandas as pd\n",
    "import numpy as np\n",
    "import matplotlib.pyplot as plt\n",
    "import seaborn as sns\n"
   ]
  },
  {
   "cell_type": "code",
   "execution_count": 2,
   "metadata": {},
   "outputs": [],
   "source": [
    "apps = pd.read_csv('apps_clean.csv')"
   ]
  },
  {
   "cell_type": "code",
   "execution_count": 3,
   "metadata": {
    "scrolled": true
   },
   "outputs": [
    {
     "data": {
      "text/html": [
       "<div>\n",
       "<style scoped>\n",
       "    .dataframe tbody tr th:only-of-type {\n",
       "        vertical-align: middle;\n",
       "    }\n",
       "\n",
       "    .dataframe tbody tr th {\n",
       "        vertical-align: top;\n",
       "    }\n",
       "\n",
       "    .dataframe thead th {\n",
       "        text-align: right;\n",
       "    }\n",
       "</style>\n",
       "<table border=\"1\" class=\"dataframe\">\n",
       "  <thead>\n",
       "    <tr style=\"text-align: right;\">\n",
       "      <th></th>\n",
       "      <th>Rating</th>\n",
       "      <th>Reviews</th>\n",
       "      <th>Size</th>\n",
       "      <th>Installs</th>\n",
       "      <th>Price</th>\n",
       "      <th>Category_ART_AND_DESIGN</th>\n",
       "      <th>Category_AUTO_AND_VEHICLES</th>\n",
       "      <th>Category_BEAUTY</th>\n",
       "      <th>Category_BOOKS_AND_REFERENCE</th>\n",
       "      <th>Category_BUSINESS</th>\n",
       "      <th>...</th>\n",
       "      <th>Genres_Social</th>\n",
       "      <th>Genres_Sports</th>\n",
       "      <th>Genres_Strategy</th>\n",
       "      <th>Genres_Tools</th>\n",
       "      <th>Genres_Travel &amp; Local</th>\n",
       "      <th>Genres_Trivia</th>\n",
       "      <th>Genres_Video Players &amp; Editors</th>\n",
       "      <th>Genres_Weather</th>\n",
       "      <th>Genres_Word</th>\n",
       "      <th>Updated_year</th>\n",
       "    </tr>\n",
       "  </thead>\n",
       "  <tbody>\n",
       "    <tr>\n",
       "      <td>0</td>\n",
       "      <td>4.1</td>\n",
       "      <td>159</td>\n",
       "      <td>19.0</td>\n",
       "      <td>10000.0</td>\n",
       "      <td>0.0</td>\n",
       "      <td>1</td>\n",
       "      <td>0</td>\n",
       "      <td>0</td>\n",
       "      <td>0</td>\n",
       "      <td>0</td>\n",
       "      <td>...</td>\n",
       "      <td>0</td>\n",
       "      <td>0</td>\n",
       "      <td>0</td>\n",
       "      <td>0</td>\n",
       "      <td>0</td>\n",
       "      <td>0</td>\n",
       "      <td>0</td>\n",
       "      <td>0</td>\n",
       "      <td>0</td>\n",
       "      <td>2018</td>\n",
       "    </tr>\n",
       "    <tr>\n",
       "      <td>1</td>\n",
       "      <td>3.9</td>\n",
       "      <td>967</td>\n",
       "      <td>14.0</td>\n",
       "      <td>500000.0</td>\n",
       "      <td>0.0</td>\n",
       "      <td>1</td>\n",
       "      <td>0</td>\n",
       "      <td>0</td>\n",
       "      <td>0</td>\n",
       "      <td>0</td>\n",
       "      <td>...</td>\n",
       "      <td>0</td>\n",
       "      <td>0</td>\n",
       "      <td>0</td>\n",
       "      <td>0</td>\n",
       "      <td>0</td>\n",
       "      <td>0</td>\n",
       "      <td>0</td>\n",
       "      <td>0</td>\n",
       "      <td>0</td>\n",
       "      <td>2018</td>\n",
       "    </tr>\n",
       "    <tr>\n",
       "      <td>2</td>\n",
       "      <td>4.7</td>\n",
       "      <td>87510</td>\n",
       "      <td>8.7</td>\n",
       "      <td>5000000.0</td>\n",
       "      <td>0.0</td>\n",
       "      <td>1</td>\n",
       "      <td>0</td>\n",
       "      <td>0</td>\n",
       "      <td>0</td>\n",
       "      <td>0</td>\n",
       "      <td>...</td>\n",
       "      <td>0</td>\n",
       "      <td>0</td>\n",
       "      <td>0</td>\n",
       "      <td>0</td>\n",
       "      <td>0</td>\n",
       "      <td>0</td>\n",
       "      <td>0</td>\n",
       "      <td>0</td>\n",
       "      <td>0</td>\n",
       "      <td>2018</td>\n",
       "    </tr>\n",
       "    <tr>\n",
       "      <td>3</td>\n",
       "      <td>4.5</td>\n",
       "      <td>215644</td>\n",
       "      <td>25.0</td>\n",
       "      <td>50000000.0</td>\n",
       "      <td>0.0</td>\n",
       "      <td>1</td>\n",
       "      <td>0</td>\n",
       "      <td>0</td>\n",
       "      <td>0</td>\n",
       "      <td>0</td>\n",
       "      <td>...</td>\n",
       "      <td>0</td>\n",
       "      <td>0</td>\n",
       "      <td>0</td>\n",
       "      <td>0</td>\n",
       "      <td>0</td>\n",
       "      <td>0</td>\n",
       "      <td>0</td>\n",
       "      <td>0</td>\n",
       "      <td>0</td>\n",
       "      <td>2018</td>\n",
       "    </tr>\n",
       "    <tr>\n",
       "      <td>4</td>\n",
       "      <td>4.3</td>\n",
       "      <td>967</td>\n",
       "      <td>2.8</td>\n",
       "      <td>100000.0</td>\n",
       "      <td>0.0</td>\n",
       "      <td>1</td>\n",
       "      <td>0</td>\n",
       "      <td>0</td>\n",
       "      <td>0</td>\n",
       "      <td>0</td>\n",
       "      <td>...</td>\n",
       "      <td>0</td>\n",
       "      <td>0</td>\n",
       "      <td>0</td>\n",
       "      <td>0</td>\n",
       "      <td>0</td>\n",
       "      <td>0</td>\n",
       "      <td>0</td>\n",
       "      <td>0</td>\n",
       "      <td>0</td>\n",
       "      <td>2018</td>\n",
       "    </tr>\n",
       "  </tbody>\n",
       "</table>\n",
       "<p>5 rows × 96 columns</p>\n",
       "</div>"
      ],
      "text/plain": [
       "   Rating  Reviews  Size    Installs  Price  Category_ART_AND_DESIGN  \\\n",
       "0     4.1      159  19.0     10000.0    0.0                        1   \n",
       "1     3.9      967  14.0    500000.0    0.0                        1   \n",
       "2     4.7    87510   8.7   5000000.0    0.0                        1   \n",
       "3     4.5   215644  25.0  50000000.0    0.0                        1   \n",
       "4     4.3      967   2.8    100000.0    0.0                        1   \n",
       "\n",
       "   Category_AUTO_AND_VEHICLES  Category_BEAUTY  Category_BOOKS_AND_REFERENCE  \\\n",
       "0                           0                0                             0   \n",
       "1                           0                0                             0   \n",
       "2                           0                0                             0   \n",
       "3                           0                0                             0   \n",
       "4                           0                0                             0   \n",
       "\n",
       "   Category_BUSINESS  ...  Genres_Social  Genres_Sports  Genres_Strategy  \\\n",
       "0                  0  ...              0              0                0   \n",
       "1                  0  ...              0              0                0   \n",
       "2                  0  ...              0              0                0   \n",
       "3                  0  ...              0              0                0   \n",
       "4                  0  ...              0              0                0   \n",
       "\n",
       "   Genres_Tools  Genres_Travel & Local  Genres_Trivia  \\\n",
       "0             0                      0              0   \n",
       "1             0                      0              0   \n",
       "2             0                      0              0   \n",
       "3             0                      0              0   \n",
       "4             0                      0              0   \n",
       "\n",
       "   Genres_Video Players & Editors  Genres_Weather  Genres_Word  Updated_year  \n",
       "0                               0               0            0          2018  \n",
       "1                               0               0            0          2018  \n",
       "2                               0               0            0          2018  \n",
       "3                               0               0            0          2018  \n",
       "4                               0               0            0          2018  \n",
       "\n",
       "[5 rows x 96 columns]"
      ]
     },
     "execution_count": 3,
     "metadata": {},
     "output_type": "execute_result"
    }
   ],
   "source": [
    "apps.head()"
   ]
  },
  {
   "cell_type": "code",
   "execution_count": 4,
   "metadata": {},
   "outputs": [
    {
     "name": "stdout",
     "output_type": "stream",
     "text": [
      "The shape of the data set is: (8196, 96) \n",
      "\n",
      "number of examples: 8196\n",
      "number of features: 95\n"
     ]
    }
   ],
   "source": [
    "print(f'The shape of the data set is: {apps.shape} \\n')\n",
    "print(f'number of examples: {apps.shape[0]}')\n",
    "print(f'number of features: {apps.shape[1]-1}')"
   ]
  },
  {
   "cell_type": "markdown",
   "metadata": {},
   "source": [
    "## train test split"
   ]
  },
  {
   "cell_type": "code",
   "execution_count": 5,
   "metadata": {},
   "outputs": [],
   "source": [
    "from sklearn.model_selection import train_test_split\n",
    "test_size = 0.15\n",
    "train, test = train_test_split(apps, test_size=test_size, random_state=0, shuffle=True)\n",
    "label = 'Rating'\n",
    "X_train, y_train = train.drop(label, axis=1), train[label]\n",
    "X_test, y_test = test.drop(label, axis=1), test[label]"
   ]
  },
  {
   "cell_type": "code",
   "execution_count": 6,
   "metadata": {},
   "outputs": [
    {
     "name": "stdout",
     "output_type": "stream",
     "text": [
      "Train data shape is: (6966, 95)\n",
      "Label train shape is: (6966,) \n",
      "\n",
      "Test data shape is: (1230, 95) \n",
      "Label Test shape is: (1230,)\n"
     ]
    }
   ],
   "source": [
    "print(f'Train data shape is: {X_train.shape}')\n",
    "print(f'Label train shape is: {y_train.shape} \\n')\n",
    "print(f'Test data shape is: {X_test.shape} ')\n",
    "print(f'Label Test shape is: {y_test.shape}')"
   ]
  },
  {
   "cell_type": "markdown",
   "metadata": {},
   "source": [
    "Lable exploration of train"
   ]
  },
  {
   "cell_type": "code",
   "execution_count": 7,
   "metadata": {},
   "outputs": [
    {
     "data": {
      "text/plain": [
       "<matplotlib.axes._subplots.AxesSubplot at 0x1ea2722ed08>"
      ]
     },
     "execution_count": 7,
     "metadata": {},
     "output_type": "execute_result"
    },
    {
     "data": {
      "image/png": "[encoded data removed]",
      "text/plain": [
       "<Figure size 1080x360 with 1 Axes>"
      ]
     },
     "metadata": {
      "needs_background": "light"
     },
     "output_type": "display_data"
    }
   ],
   "source": [
    "# lable exploration\n",
    "\n",
    "plt.figure(figsize=(15, 5))\n",
    "sns.countplot(y_train)"
   ]
  },
  {
   "cell_type": "markdown",
   "metadata": {},
   "source": [
    "## Helper functions"
   ]
  },
  {
   "cell_type": "markdown",
   "metadata": {},
   "source": [
    "Our obective function which the model will be tested on is RMSE, we will use it Because that's more understandable bussines wise"
   ]
  },
  {
   "cell_type": "markdown",
   "metadata": {},
   "source": [
    "### Evaluation"
   ]
  },
  {
   "cell_type": "code",
   "execution_count": 8,
   "metadata": {},
   "outputs": [],
   "source": [
    "from sklearn.metrics import mean_squared_error\n",
    "from sklearn.metrics import accuracy_score\n",
    "from numpy import sqrt\n",
    "\n",
    "def check_regressor(regressor, X_train, y_train, X_test, y_test):\n",
    "    # Fit regression model\n",
    "    regressor.fit(X_train, y_train)\n",
    "\n",
    "    # Predict\n",
    "    y_pred = regressor.predict(X_test)\n",
    "    rmse = sqrt(mean_squared_error(y_test, y_pred))\n",
    "    y_pred_train = regressor.predict(X_train)\n",
    "    rmse_train = sqrt(mean_squared_error(y_train, y_pred_train))\n",
    "\n",
    "    model_name = regressor.__class__.__name__\n",
    "    print('{0}: \\n root mean squared error test: {1:.4f} \\n root mean squared error train: {2:.4f} \\n'.format(model_name, rmse, rmse_train))\n",
    "    return rmse, rmse_train, model_name\n"
   ]
  },
  {
   "cell_type": "code",
   "execution_count": 9,
   "metadata": {},
   "outputs": [],
   "source": [
    "models_errors = {}\n",
    "models_errors_train = {}\n"
   ]
  },
  {
   "cell_type": "markdown",
   "metadata": {},
   "source": [
    "### Compare models"
   ]
  },
  {
   "cell_type": "code",
   "execution_count": 10,
   "metadata": {},
   "outputs": [],
   "source": [
    "def compare_performance(models_errors_train=models_errors_train, models_errors=models_errors):\n",
    "    return pd.DataFrame({'train':models_errors_train, 'test':models_errors}).sort_values('test')\n"
   ]
  },
  {
   "cell_type": "markdown",
   "metadata": {},
   "source": [
    "### Benchmark"
   ]
  },
  {
   "cell_type": "code",
   "execution_count": 11,
   "metadata": {},
   "outputs": [
    {
     "name": "stdout",
     "output_type": "stream",
     "text": [
      "Benchmark: \n",
      " root mean squared error test: 0.5199 \n",
      " root mean squared error train: 0.5395 \n",
      "\n",
      "              train      test\n",
      "Benchmark  0.539486  0.519943\n"
     ]
    }
   ],
   "source": [
    "\n",
    "class Benchmark:\n",
    "    def fit(self, x, y):\n",
    "        self.value = y.mean()\n",
    "        return self\n",
    "    \n",
    "    def predict(self, x):\n",
    "        return np.ones(len(x))*self.value\n",
    "    \n",
    "benchmark = Benchmark()\n",
    "model_rmse, model_rmse_train, model_name = check_regressor(benchmark, X_train, y_train, X_test, y_test)\n",
    "models_errors[model_name] = model_rmse\n",
    "models_errors_train[model_name] = model_rmse_train\n",
    "print(compare_performance())\n",
    "\n"
   ]
  },
  {
   "cell_type": "markdown",
   "metadata": {},
   "source": [
    "# Models"
   ]
  },
  {
   "cell_type": "markdown",
   "metadata": {},
   "source": [
    "### Decision Tree Regressor"
   ]
  },
  {
   "cell_type": "code",
   "execution_count": 12,
   "metadata": {},
   "outputs": [
    {
     "data": {
      "image/png": "[encoded data removed]",
      "text/plain": [
       "<Figure size 432x288 with 1 Axes>"
      ]
     },
     "metadata": {
      "needs_background": "light"
     },
     "output_type": "display_data"
    }
   ],
   "source": [
    "# finding the best depth\n",
    "\n",
    "test_rmse =[]\n",
    "train_rmse = []\n",
    "\n",
    "from sklearn.tree import DecisionTreeRegressor\n",
    "depthes = [x for x in range(1,6)]\n",
    "for d in depthes:\n",
    "    decision_tree = DecisionTreeRegressor(max_depth=d, random_state=0)\n",
    "    decision_tree.fit(X_train, y_train)\n",
    "    y_pred = decision_tree.predict(X_test)\n",
    "    y_pred_train = decision_tree.predict(X_train)\n",
    "    train_rmse.append(sqrt(mean_squared_error(y_train, y_pred_train)))\n",
    "    test_rmse.append(sqrt(mean_squared_error(y_test, y_pred)))\n",
    "\n",
    "fig = plt.figure()\n",
    "ax1 = fig.add_subplot(111)\n",
    "\n",
    "ax1.scatter(depthes, train_rmse, s=10, c='b', marker=\"s\", label='Training RMSE')\n",
    "ax1.scatter(depthes ,test_rmse, s=10, c='r', marker=\"o\", label='Testing RMSE')\n",
    "ax1.set_ylabel(\"RMSE\")\n",
    "ax1.set_xlabel(\"depth\")\n",
    "plt.legend(loc='lower right');\n",
    "plt.show()\n",
    "    "
   ]
  },
  {
   "cell_type": "code",
   "execution_count": 13,
   "metadata": {},
   "outputs": [
    {
     "name": "stdout",
     "output_type": "stream",
     "text": [
      "DecisionTreeRegressor: \n",
      " root mean squared error test: 0.5063 \n",
      " root mean squared error train: 0.5161 \n",
      "\n",
      "                          train      test\n",
      "DecisionTreeRegressor  0.516071  0.506281\n",
      "Benchmark              0.539486  0.519943\n"
     ]
    }
   ],
   "source": [
    "from sklearn.tree import DecisionTreeRegressor\n",
    "\n",
    "max_depth = 3\n",
    "decision_tree = DecisionTreeRegressor(max_depth=max_depth, random_state=0)\n",
    "model_rmse, model_rmse_train, model_name = check_regressor(decision_tree, X_train, y_train, X_test, y_test)\n",
    "models_errors[model_name] = model_rmse\n",
    "models_errors_train[model_name] = model_rmse_train\n",
    "print(compare_performance())"
   ]
  },
  {
   "cell_type": "markdown",
   "metadata": {},
   "source": [
    "Visualize the tree:"
   ]
  },
  {
   "cell_type": "code",
   "execution_count": 14,
   "metadata": {
    "scrolled": true
   },
   "outputs": [
    {
     "data": {
      "image/svg+xml": [
       "<svg height=\"373pt\" viewBox=\"0.00 0.00 936.00 373.00\" width=\"936pt\" xmlns=\"http://www.w3.org/2000/svg\" xmlns:xlink=\"http://www.w3.org/1999/xlink\">\n",
       "<g class=\"graph\" id=\"graph0\" transform=\"scale(1 1) rotate(0) translate(4 369)\">\n",
       "<title>Tree</title>\n",
       "<polygon fill=\"white\" points=\"-4,4 -4,-369 932,-369 932,4 -4,4\" stroke=\"none\"/>\n",
       "<!-- 0 -->\n",
       "<g class=\"node\" id=\"node1\"><title>0</title>\n",
       "<polygon fill=\"#f8dbc7\" points=\"527.5,-365 402.5,-365 402.5,-297 527.5,-297 527.5,-365\" stroke=\"black\"/>\n",
       "<text font-family=\"Times New Roman,serif\" font-size=\"14.00\" text-anchor=\"middle\" x=\"465\" y=\"-349.8\">Reviews &lt;= 9391.5</text>\n",
       "<text font-family=\"Times New Roman,serif\" font-size=\"14.00\" text-anchor=\"middle\" x=\"465\" y=\"-334.8\">mse = 0.291</text>\n",
       "<text font-family=\"Times New Roman,serif\" font-size=\"14.00\" text-anchor=\"middle\" x=\"465\" y=\"-319.8\">samples = 6966</text>\n",
       "<text font-family=\"Times New Roman,serif\" font-size=\"14.00\" text-anchor=\"middle\" x=\"465\" y=\"-304.8\">value = 4.171</text>\n",
       "</g>\n",
       "<!-- 1 -->\n",
       "<g class=\"node\" id=\"node2\"><title>1</title>\n",
       "<polygon fill=\"#fbeee4\" points=\"434,-261 324,-261 324,-193 434,-193 434,-261\" stroke=\"black\"/>\n",
       "<text font-family=\"Times New Roman,serif\" font-size=\"14.00\" text-anchor=\"middle\" x=\"379\" y=\"-245.8\">Installs &lt;= 300.0</text>\n",
       "<text font-family=\"Times New Roman,serif\" font-size=\"14.00\" text-anchor=\"middle\" x=\"379\" y=\"-230.8\">mse = 0.41</text>\n",
       "<text font-family=\"Times New Roman,serif\" font-size=\"14.00\" text-anchor=\"middle\" x=\"379\" y=\"-215.8\">samples = 4164</text>\n",
       "<text font-family=\"Times New Roman,serif\" font-size=\"14.00\" text-anchor=\"middle\" x=\"379\" y=\"-200.8\">value = 4.085</text>\n",
       "</g>\n",
       "<!-- 0&#45;&gt;1 -->\n",
       "<g class=\"edge\" id=\"edge1\"><title>0-&gt;1</title>\n",
       "<path d=\"M437.078,-296.884C429.568,-287.976 421.355,-278.235 413.532,-268.957\" fill=\"none\" stroke=\"black\"/>\n",
       "<polygon fill=\"black\" points=\"416.198,-266.689 407.076,-261.299 410.846,-271.201 416.198,-266.689\" stroke=\"black\"/>\n",
       "<text font-family=\"Times New Roman,serif\" font-size=\"14.00\" text-anchor=\"middle\" x=\"404.956\" y=\"-282.509\">True</text>\n",
       "</g>\n",
       "<!-- 8 -->\n",
       "<g class=\"node\" id=\"node9\"><title>8</title>\n",
       "<polygon fill=\"#f2c09b\" points=\"621.5,-261 482.5,-261 482.5,-193 621.5,-193 621.5,-261\" stroke=\"black\"/>\n",
       "<text font-family=\"Times New Roman,serif\" font-size=\"14.00\" text-anchor=\"middle\" x=\"552\" y=\"-245.8\">Reviews &lt;= 178828.5</text>\n",
       "<text font-family=\"Times New Roman,serif\" font-size=\"14.00\" text-anchor=\"middle\" x=\"552\" y=\"-230.8\">mse = 0.087</text>\n",
       "<text font-family=\"Times New Roman,serif\" font-size=\"14.00\" text-anchor=\"middle\" x=\"552\" y=\"-215.8\">samples = 2802</text>\n",
       "<text font-family=\"Times New Roman,serif\" font-size=\"14.00\" text-anchor=\"middle\" x=\"552\" y=\"-200.8\">value = 4.298</text>\n",
       "</g>\n",
       "<!-- 0&#45;&gt;8 -->\n",
       "<g class=\"edge\" id=\"edge8\"><title>0-&gt;8</title>\n",
       "<path d=\"M493.246,-296.884C500.844,-287.976 509.152,-278.235 517.066,-268.957\" fill=\"none\" stroke=\"black\"/>\n",
       "<polygon fill=\"black\" points=\"519.771,-271.179 523.598,-261.299 514.445,-266.636 519.771,-271.179\" stroke=\"black\"/>\n",
       "<text font-family=\"Times New Roman,serif\" font-size=\"14.00\" text-anchor=\"middle\" x=\"525.576\" y=\"-282.521\">False</text>\n",
       "</g>\n",
       "<!-- 2 -->\n",
       "<g class=\"node\" id=\"node3\"><title>2</title>\n",
       "<polygon fill=\"#eba06a\" points=\"243.5,-157 86.5,-157 86.5,-89 243.5,-89 243.5,-157\" stroke=\"black\"/>\n",
       "<text font-family=\"Times New Roman,serif\" font-size=\"14.00\" text-anchor=\"middle\" x=\"165\" y=\"-141.8\">Updated_year &lt;= 2017.5</text>\n",
       "<text font-family=\"Times New Roman,serif\" font-size=\"14.00\" text-anchor=\"middle\" x=\"165\" y=\"-126.8\">mse = 0.726</text>\n",
       "<text font-family=\"Times New Roman,serif\" font-size=\"14.00\" text-anchor=\"middle\" x=\"165\" y=\"-111.8\">samples = 370</text>\n",
       "<text font-family=\"Times New Roman,serif\" font-size=\"14.00\" text-anchor=\"middle\" x=\"165\" y=\"-96.8\">value = 4.443</text>\n",
       "</g>\n",
       "<!-- 1&#45;&gt;2 -->\n",
       "<g class=\"edge\" id=\"edge2\"><title>1-&gt;2</title>\n",
       "<path d=\"M323.89,-199.732C299.518,-188.116 270.408,-174.241 243.802,-161.56\" fill=\"none\" stroke=\"black\"/>\n",
       "<polygon fill=\"black\" points=\"245.04,-158.273 234.507,-157.13 242.029,-164.592 245.04,-158.273\" stroke=\"black\"/>\n",
       "</g>\n",
       "<!-- 5 -->\n",
       "<g class=\"node\" id=\"node6\"><title>5</title>\n",
       "<polygon fill=\"#fdf6f0\" points=\"438.5,-157 319.5,-157 319.5,-89 438.5,-89 438.5,-157\" stroke=\"black\"/>\n",
       "<text font-family=\"Times New Roman,serif\" font-size=\"14.00\" text-anchor=\"middle\" x=\"379\" y=\"-141.8\">Reviews &lt;= 962.0</text>\n",
       "<text font-family=\"Times New Roman,serif\" font-size=\"14.00\" text-anchor=\"middle\" x=\"379\" y=\"-126.8\">mse = 0.366</text>\n",
       "<text font-family=\"Times New Roman,serif\" font-size=\"14.00\" text-anchor=\"middle\" x=\"379\" y=\"-111.8\">samples = 3794</text>\n",
       "<text font-family=\"Times New Roman,serif\" font-size=\"14.00\" text-anchor=\"middle\" x=\"379\" y=\"-96.8\">value = 4.05</text>\n",
       "</g>\n",
       "<!-- 1&#45;&gt;5 -->\n",
       "<g class=\"edge\" id=\"edge5\"><title>1-&gt;5</title>\n",
       "<path d=\"M379,-192.884C379,-184.778 379,-175.982 379,-167.472\" fill=\"none\" stroke=\"black\"/>\n",
       "<polygon fill=\"black\" points=\"382.5,-167.299 379,-157.299 375.5,-167.299 382.5,-167.299\" stroke=\"black\"/>\n",
       "</g>\n",
       "<!-- 3 -->\n",
       "<g class=\"node\" id=\"node4\"><title>3</title>\n",
       "<polygon fill=\"#f3c7a6\" points=\"98,-53 0,-53 0,-0 98,-0 98,-53\" stroke=\"black\"/>\n",
       "<text font-family=\"Times New Roman,serif\" font-size=\"14.00\" text-anchor=\"middle\" x=\"49\" y=\"-37.8\">mse = 0.921</text>\n",
       "<text font-family=\"Times New Roman,serif\" font-size=\"14.00\" text-anchor=\"middle\" x=\"49\" y=\"-22.8\">samples = 165</text>\n",
       "<text font-family=\"Times New Roman,serif\" font-size=\"14.00\" text-anchor=\"middle\" x=\"49\" y=\"-7.8\">value = 4.266</text>\n",
       "</g>\n",
       "<!-- 2&#45;&gt;3 -->\n",
       "<g class=\"edge\" id=\"edge3\"><title>2-&gt;3</title>\n",
       "<path d=\"M124.429,-88.9485C112.75,-79.4346 100.033,-69.074 88.4247,-59.6175\" fill=\"none\" stroke=\"black\"/>\n",
       "<polygon fill=\"black\" points=\"90.5557,-56.8392 80.5921,-53.2367 86.1345,-62.2663 90.5557,-56.8392\" stroke=\"black\"/>\n",
       "</g>\n",
       "<!-- 4 -->\n",
       "<g class=\"node\" id=\"node5\"><title>4</title>\n",
       "<polygon fill=\"#e58139\" points=\"214,-53 116,-53 116,-0 214,-0 214,-53\" stroke=\"black\"/>\n",
       "<text font-family=\"Times New Roman,serif\" font-size=\"14.00\" text-anchor=\"middle\" x=\"165\" y=\"-37.8\">mse = 0.525</text>\n",
       "<text font-family=\"Times New Roman,serif\" font-size=\"14.00\" text-anchor=\"middle\" x=\"165\" y=\"-22.8\">samples = 205</text>\n",
       "<text font-family=\"Times New Roman,serif\" font-size=\"14.00\" text-anchor=\"middle\" x=\"165\" y=\"-7.8\">value = 4.586</text>\n",
       "</g>\n",
       "<!-- 2&#45;&gt;4 -->\n",
       "<g class=\"edge\" id=\"edge4\"><title>2-&gt;4</title>\n",
       "<path d=\"M165,-88.9485C165,-80.7153 165,-71.848 165,-63.4814\" fill=\"none\" stroke=\"black\"/>\n",
       "<polygon fill=\"black\" points=\"168.5,-63.2367 165,-53.2367 161.5,-63.2367 168.5,-63.2367\" stroke=\"black\"/>\n",
       "</g>\n",
       "<!-- 6 -->\n",
       "<g class=\"node\" id=\"node7\"><title>6</title>\n",
       "<polygon fill=\"#ffffff\" points=\"336,-53 232,-53 232,-0 336,-0 336,-53\" stroke=\"black\"/>\n",
       "<text font-family=\"Times New Roman,serif\" font-size=\"14.00\" text-anchor=\"middle\" x=\"284\" y=\"-37.8\">mse = 0.449</text>\n",
       "<text font-family=\"Times New Roman,serif\" font-size=\"14.00\" text-anchor=\"middle\" x=\"284\" y=\"-22.8\">samples = 2490</text>\n",
       "<text font-family=\"Times New Roman,serif\" font-size=\"14.00\" text-anchor=\"middle\" x=\"284\" y=\"-7.8\">value = 4.006</text>\n",
       "</g>\n",
       "<!-- 5&#45;&gt;6 -->\n",
       "<g class=\"edge\" id=\"edge6\"><title>5-&gt;6</title>\n",
       "<path d=\"M345.774,-88.9485C336.485,-79.709 326.394,-69.671 317.112,-60.4381\" fill=\"none\" stroke=\"black\"/>\n",
       "<polygon fill=\"black\" points=\"319.431,-57.8077 309.873,-53.2367 314.494,-62.7705 319.431,-57.8077\" stroke=\"black\"/>\n",
       "</g>\n",
       "<!-- 7 -->\n",
       "<g class=\"node\" id=\"node8\"><title>7</title>\n",
       "<polygon fill=\"#f9e3d4\" points=\"458,-53 354,-53 354,-0 458,-0 458,-53\" stroke=\"black\"/>\n",
       "<text font-family=\"Times New Roman,serif\" font-size=\"14.00\" text-anchor=\"middle\" x=\"406\" y=\"-37.8\">mse = 0.196</text>\n",
       "<text font-family=\"Times New Roman,serif\" font-size=\"14.00\" text-anchor=\"middle\" x=\"406\" y=\"-22.8\">samples = 1304</text>\n",
       "<text font-family=\"Times New Roman,serif\" font-size=\"14.00\" text-anchor=\"middle\" x=\"406\" y=\"-7.8\">value = 4.133</text>\n",
       "</g>\n",
       "<!-- 5&#45;&gt;7 -->\n",
       "<g class=\"edge\" id=\"edge7\"><title>5-&gt;7</title>\n",
       "<path d=\"M388.443,-88.9485C390.848,-80.5323 393.442,-71.4536 395.879,-62.9243\" fill=\"none\" stroke=\"black\"/>\n",
       "<polygon fill=\"black\" points=\"399.265,-63.8135 398.647,-53.2367 392.534,-61.8904 399.265,-63.8135\" stroke=\"black\"/>\n",
       "</g>\n",
       "<!-- 9 -->\n",
       "<g class=\"node\" id=\"node10\"><title>9</title>\n",
       "<polygon fill=\"#f4c9ab\" points=\"617.5,-157 486.5,-157 486.5,-89 617.5,-89 617.5,-157\" stroke=\"black\"/>\n",
       "<text font-family=\"Times New Roman,serif\" font-size=\"14.00\" text-anchor=\"middle\" x=\"552\" y=\"-141.8\">Installs &lt;= 750000.0</text>\n",
       "<text font-family=\"Times New Roman,serif\" font-size=\"14.00\" text-anchor=\"middle\" x=\"552\" y=\"-126.8\">mse = 0.101</text>\n",
       "<text font-family=\"Times New Roman,serif\" font-size=\"14.00\" text-anchor=\"middle\" x=\"552\" y=\"-111.8\">samples = 1898</text>\n",
       "<text font-family=\"Times New Roman,serif\" font-size=\"14.00\" text-anchor=\"middle\" x=\"552\" y=\"-96.8\">value = 4.253</text>\n",
       "</g>\n",
       "<!-- 8&#45;&gt;9 -->\n",
       "<g class=\"edge\" id=\"edge9\"><title>8-&gt;9</title>\n",
       "<path d=\"M552,-192.884C552,-184.778 552,-175.982 552,-167.472\" fill=\"none\" stroke=\"black\"/>\n",
       "<polygon fill=\"black\" points=\"555.5,-167.299 552,-157.299 548.5,-167.299 555.5,-167.299\" stroke=\"black\"/>\n",
       "</g>\n",
       "<!-- 12 -->\n",
       "<g class=\"node\" id=\"node13\"><title>12</title>\n",
       "<polygon fill=\"#eeab7b\" points=\"832.5,-157 693.5,-157 693.5,-89 832.5,-89 832.5,-157\" stroke=\"black\"/>\n",
       "<text font-family=\"Times New Roman,serif\" font-size=\"14.00\" text-anchor=\"middle\" x=\"763\" y=\"-141.8\">Reviews &lt;= 502627.5</text>\n",
       "<text font-family=\"Times New Roman,serif\" font-size=\"14.00\" text-anchor=\"middle\" x=\"763\" y=\"-126.8\">mse = 0.044</text>\n",
       "<text font-family=\"Times New Roman,serif\" font-size=\"14.00\" text-anchor=\"middle\" x=\"763\" y=\"-111.8\">samples = 904</text>\n",
       "<text font-family=\"Times New Roman,serif\" font-size=\"14.00\" text-anchor=\"middle\" x=\"763\" y=\"-96.8\">value = 4.392</text>\n",
       "</g>\n",
       "<!-- 8&#45;&gt;12 -->\n",
       "<g class=\"edge\" id=\"edge12\"><title>8-&gt;12</title>\n",
       "<path d=\"M620.506,-192.884C641.248,-182.856 664.175,-171.773 685.465,-161.482\" fill=\"none\" stroke=\"black\"/>\n",
       "<polygon fill=\"black\" points=\"686.997,-164.628 694.477,-157.125 683.951,-158.326 686.997,-164.628\" stroke=\"black\"/>\n",
       "</g>\n",
       "<!-- 10 -->\n",
       "<g class=\"node\" id=\"node11\"><title>10</title>\n",
       "<polygon fill=\"#eba06a\" points=\"574,-53 476,-53 476,-0 574,-0 574,-53\" stroke=\"black\"/>\n",
       "<text font-family=\"Times New Roman,serif\" font-size=\"14.00\" text-anchor=\"middle\" x=\"525\" y=\"-37.8\">mse = 0.078</text>\n",
       "<text font-family=\"Times New Roman,serif\" font-size=\"14.00\" text-anchor=\"middle\" x=\"525\" y=\"-22.8\">samples = 202</text>\n",
       "<text font-family=\"Times New Roman,serif\" font-size=\"14.00\" text-anchor=\"middle\" x=\"525\" y=\"-7.8\">value = 4.444</text>\n",
       "</g>\n",
       "<!-- 9&#45;&gt;10 -->\n",
       "<g class=\"edge\" id=\"edge10\"><title>9-&gt;10</title>\n",
       "<path d=\"M542.557,-88.9485C540.152,-80.5323 537.558,-71.4536 535.121,-62.9243\" fill=\"none\" stroke=\"black\"/>\n",
       "<polygon fill=\"black\" points=\"538.466,-61.8904 532.353,-53.2367 531.735,-63.8135 538.466,-61.8904\" stroke=\"black\"/>\n",
       "</g>\n",
       "<!-- 11 -->\n",
       "<g class=\"node\" id=\"node12\"><title>11</title>\n",
       "<polygon fill=\"#f5ceb2\" points=\"696,-53 592,-53 592,-0 696,-0 696,-53\" stroke=\"black\"/>\n",
       "<text font-family=\"Times New Roman,serif\" font-size=\"14.00\" text-anchor=\"middle\" x=\"644\" y=\"-37.8\">mse = 0.099</text>\n",
       "<text font-family=\"Times New Roman,serif\" font-size=\"14.00\" text-anchor=\"middle\" x=\"644\" y=\"-22.8\">samples = 1696</text>\n",
       "<text font-family=\"Times New Roman,serif\" font-size=\"14.00\" text-anchor=\"middle\" x=\"644\" y=\"-7.8\">value = 4.23</text>\n",
       "</g>\n",
       "<!-- 9&#45;&gt;11 -->\n",
       "<g class=\"edge\" id=\"edge11\"><title>9-&gt;11</title>\n",
       "<path d=\"M584.177,-88.9485C593.172,-79.709 602.945,-69.671 611.933,-60.4381\" fill=\"none\" stroke=\"black\"/>\n",
       "<polygon fill=\"black\" points=\"614.476,-62.8434 618.944,-53.2367 609.461,-57.9605 614.476,-62.8434\" stroke=\"black\"/>\n",
       "</g>\n",
       "<!-- 13 -->\n",
       "<g class=\"node\" id=\"node14\"><title>13</title>\n",
       "<polygon fill=\"#efb387\" points=\"812,-53 714,-53 714,-0 812,-0 812,-53\" stroke=\"black\"/>\n",
       "<text font-family=\"Times New Roman,serif\" font-size=\"14.00\" text-anchor=\"middle\" x=\"763\" y=\"-37.8\">mse = 0.056</text>\n",
       "<text font-family=\"Times New Roman,serif\" font-size=\"14.00\" text-anchor=\"middle\" x=\"763\" y=\"-22.8\">samples = 407</text>\n",
       "<text font-family=\"Times New Roman,serif\" font-size=\"14.00\" text-anchor=\"middle\" x=\"763\" y=\"-7.8\">value = 4.357</text>\n",
       "</g>\n",
       "<!-- 12&#45;&gt;13 -->\n",
       "<g class=\"edge\" id=\"edge13\"><title>12-&gt;13</title>\n",
       "<path d=\"M763,-88.9485C763,-80.7153 763,-71.848 763,-63.4814\" fill=\"none\" stroke=\"black\"/>\n",
       "<polygon fill=\"black\" points=\"766.5,-63.2367 763,-53.2367 759.5,-63.2367 766.5,-63.2367\" stroke=\"black\"/>\n",
       "</g>\n",
       "<!-- 14 -->\n",
       "<g class=\"node\" id=\"node15\"><title>14</title>\n",
       "<polygon fill=\"#eca572\" points=\"928,-53 830,-53 830,-0 928,-0 928,-53\" stroke=\"black\"/>\n",
       "<text font-family=\"Times New Roman,serif\" font-size=\"14.00\" text-anchor=\"middle\" x=\"879\" y=\"-37.8\">mse = 0.032</text>\n",
       "<text font-family=\"Times New Roman,serif\" font-size=\"14.00\" text-anchor=\"middle\" x=\"879\" y=\"-22.8\">samples = 497</text>\n",
       "<text font-family=\"Times New Roman,serif\" font-size=\"14.00\" text-anchor=\"middle\" x=\"879\" y=\"-7.8\">value = 4.42</text>\n",
       "</g>\n",
       "<!-- 12&#45;&gt;14 -->\n",
       "<g class=\"edge\" id=\"edge14\"><title>12-&gt;14</title>\n",
       "<path d=\"M803.571,-88.9485C815.25,-79.4346 827.967,-69.074 839.575,-59.6175\" fill=\"none\" stroke=\"black\"/>\n",
       "<polygon fill=\"black\" points=\"841.865,-62.2663 847.408,-53.2367 837.444,-56.8392 841.865,-62.2663\" stroke=\"black\"/>\n",
       "</g>\n",
       "</g>\n",
       "</svg>"
      ],
      "text/plain": [
       "<IPython.core.display.SVG object>"
      ]
     },
     "metadata": {},
     "output_type": "display_data"
    }
   ],
   "source": [
    "from sklearn.tree import export_graphviz\n",
    "from IPython.display import SVG\n",
    "from graphviz import Source\n",
    "from IPython.display import display\n",
    "\n",
    "def visualize_tree(tree, features):\n",
    "    graph = Source(export_graphviz(tree, feature_names=features, filled = True))\n",
    "    display(SVG(graph.pipe(format='svg')))\n",
    "    \n",
    "visualize_tree(decision_tree, features=X_train.columns)"
   ]
  },
  {
   "cell_type": "markdown",
   "metadata": {},
   "source": [
    "### Random Forest Regressor"
   ]
  },
  {
   "cell_type": "code",
   "execution_count": 15,
   "metadata": {},
   "outputs": [
    {
     "data": {
      "image/png": "[encoded data removed]",
      "text/plain": [
       "<Figure size 432x288 with 1 Axes>"
      ]
     },
     "metadata": {
      "needs_background": "light"
     },
     "output_type": "display_data"
    }
   ],
   "source": [
    "# finding the depth\n",
    "\n",
    "from sklearn.ensemble import RandomForestRegressor\n",
    "\n",
    "test_rmse =[]\n",
    "train_rmse = []\n",
    "\n",
    "\n",
    "depthes = [x for x in range(1,6)]\n",
    "\n",
    "for d in depthes:\n",
    "    forest = RandomForestRegressor(n_estimators=100, random_state=0, max_depth=d)\n",
    "    forest.fit(X_train, y_train)\n",
    "    y_pred = forest.predict(X_test)\n",
    "    y_pred_train = forest.predict(X_train)\n",
    "    train_rmse.append(sqrt(mean_squared_error(y_train, y_pred_train)))\n",
    "    test_rmse.append(sqrt(mean_squared_error(y_test, y_pred)))\n",
    "    \n",
    "fig = plt.figure()\n",
    "ax1 = fig.add_subplot(111)\n",
    "\n",
    "ax1.scatter(depthes, train_rmse, s=10, c='b', marker=\"s\", label='Training RMSE')\n",
    "ax1.scatter(depthes ,test_rmse, s=10, c='r', marker=\"o\", label='Testing RMSE')\n",
    "ax1.set_ylabel(\"RMSE\")\n",
    "ax1.set_xlabel(\"depth\")\n",
    "plt.legend(loc='lower right');\n",
    "plt.show()\n",
    "    \n"
   ]
  },
  {
   "cell_type": "code",
   "execution_count": 16,
   "metadata": {},
   "outputs": [],
   "source": [
    "feature_scores = pd.Series(forest.feature_importances_, index=X_train.columns).sort_values(ascending=False)\n"
   ]
  },
  {
   "cell_type": "code",
   "execution_count": 17,
   "metadata": {},
   "outputs": [
    {
     "data": {
      "image/png": "[encoded data removed]",
      "text/plain": [
       "<Figure size 576x216 with 1 Axes>"
      ]
     },
     "metadata": {
      "needs_background": "light"
     },
     "output_type": "display_data"
    }
   ],
   "source": [
    "f, ax = plt.subplots(figsize=(8, 3))\n",
    "top10 = feature_scores.head(10)\n",
    "ax = sns.barplot(x=top10, y=top10.index)\n",
    "ax.set_title(\"Visualize feature scores of the features\")\n",
    "ax.set_yticklabels(feature_scores.index)\n",
    "ax.set_xlabel(\"Feature importance score\")\n",
    "ax.set_ylabel(\"Features\")\n",
    "plt.show()"
   ]
  },
  {
   "cell_type": "code",
   "execution_count": 18,
   "metadata": {},
   "outputs": [
    {
     "name": "stdout",
     "output_type": "stream",
     "text": [
      "RandomForestRegressor: \n",
      " root mean squared error test: 0.5027 \n",
      " root mean squared error train: 0.5105 \n",
      "\n",
      "                          train      test\n",
      "RandomForestRegressor  0.510517  0.502689\n",
      "DecisionTreeRegressor  0.516071  0.506281\n",
      "Benchmark              0.539486  0.519943\n"
     ]
    }
   ],
   "source": [
    "from sklearn.ensemble import RandomForestRegressor\n",
    "\n",
    "n_estimators =  100\n",
    "max_depth = 3\n",
    "random_forest = RandomForestRegressor(n_estimators=n_estimators, max_depth=max_depth, random_state=0)\n",
    "model_rmse, model_rmse_train, model_name = check_regressor(random_forest, X_train, y_train, X_test, y_test)\n",
    "models_errors[model_name] = model_rmse\n",
    "models_errors_train[model_name] = model_rmse_train\n",
    "print(compare_performance())"
   ]
  },
  {
   "cell_type": "markdown",
   "metadata": {},
   "source": [
    "### AdaBoost Regressor"
   ]
  },
  {
   "cell_type": "code",
   "execution_count": 19,
   "metadata": {},
   "outputs": [
    {
     "data": {
      "image/png": "[encoded data removed]",
      "text/plain": [
       "<Figure size 432x288 with 1 Axes>"
      ]
     },
     "metadata": {
      "needs_background": "light"
     },
     "output_type": "display_data"
    }
   ],
   "source": [
    "# finding the depth\n",
    "\n",
    "from sklearn.ensemble import AdaBoostRegressor\n",
    "\n",
    "test_rmse =[]\n",
    "train_rmse = []\n",
    "depthes = [x for x in range(1,6)]\n",
    "\n",
    "for d in depthes:\n",
    "    base_estimator = DecisionTreeRegressor(max_depth=d)\n",
    "    ada_boost = AdaBoostRegressor(random_state=0, n_estimators=100, base_estimator=base_estimator)\n",
    "    ada_boost.fit(X_train, y_train)\n",
    "    y_pred = ada_boost.predict(X_test)\n",
    "    y_pred_train = ada_boost.predict(X_train)\n",
    "    train_rmse.append(sqrt(mean_squared_error(y_train, y_pred_train)))\n",
    "    test_rmse.append(sqrt(mean_squared_error(y_test, y_pred)))\n",
    "    \n",
    "fig = plt.figure()\n",
    "ax1 = fig.add_subplot(111)\n",
    "\n",
    "ax1.scatter(depthes, train_rmse, s=10, c='b', marker=\"s\", label='Training RMSE')\n",
    "ax1.scatter(depthes ,test_rmse, s=10, c='r', marker=\"o\", label='Testing RMSE')\n",
    "ax1.set_ylabel(\"RMSE\")\n",
    "ax1.set_xlabel(\"depth\")\n",
    "plt.legend(loc='lower right');\n",
    "plt.show()"
   ]
  },
  {
   "cell_type": "code",
   "execution_count": 20,
   "metadata": {},
   "outputs": [
    {
     "name": "stdout",
     "output_type": "stream",
     "text": [
      "AdaBoostRegressor: \n",
      " root mean squared error test: 0.5568 \n",
      " root mean squared error train: 0.5764 \n",
      "\n",
      "                          train      test\n",
      "RandomForestRegressor  0.510517  0.502689\n",
      "DecisionTreeRegressor  0.516071  0.506281\n",
      "Benchmark              0.539486  0.519943\n",
      "AdaBoostRegressor      0.576416  0.556818\n"
     ]
    }
   ],
   "source": [
    "\n",
    "n_estimators = 100\n",
    "max_depth = 2\n",
    "base_estimator = DecisionTreeRegressor(max_depth=max_depth)\n",
    "ada_boost = AdaBoostRegressor(random_state=0, n_estimators=n_estimators, base_estimator=base_estimator)\n",
    "model_rmse, model_rmse_train, model_name = check_regressor(ada_boost, X_train, y_train, X_test, y_test)\n",
    "models_errors[model_name] = model_rmse\n",
    "models_errors_train[model_name] = model_rmse_train\n",
    "print(compare_performance())"
   ]
  },
  {
   "cell_type": "markdown",
   "metadata": {},
   "source": [
    "### Linear Regressor"
   ]
  },
  {
   "cell_type": "code",
   "execution_count": 21,
   "metadata": {},
   "outputs": [
    {
     "name": "stdout",
     "output_type": "stream",
     "text": [
      "LinearRegression: \n",
      " root mean squared error test: 0.5088 \n",
      " root mean squared error train: 0.5238 \n",
      "\n",
      "                          train      test\n",
      "RandomForestRegressor  0.510517  0.502689\n",
      "DecisionTreeRegressor  0.516071  0.506281\n",
      "LinearRegression       0.523840  0.508813\n",
      "Benchmark              0.539486  0.519943\n",
      "AdaBoostRegressor      0.576416  0.556818\n"
     ]
    }
   ],
   "source": [
    "from sklearn.linear_model import LinearRegression\n",
    "\n",
    "linear_regressor = LinearRegression()\n",
    "model_rmse, model_rmse_train, model_name = check_regressor(linear_regressor, X_train, y_train, X_test, y_test)\n",
    "models_errors[model_name] = model_rmse\n",
    "models_errors_train[model_name] = model_rmse_train\n",
    "print(compare_performance())"
   ]
  },
  {
   "cell_type": "markdown",
   "metadata": {},
   "source": [
    "### Linear Regressor Scaled"
   ]
  },
  {
   "cell_type": "code",
   "execution_count": 22,
   "metadata": {},
   "outputs": [
    {
     "name": "stdout",
     "output_type": "stream",
     "text": [
      "LinearRegression: \n",
      " root mean squared error test: 0.5088 \n",
      " root mean squared error train: 0.5238 \n",
      "\n",
      "                           train      test\n",
      "RandomForestRegressor   0.510517  0.502689\n",
      "DecisionTreeRegressor   0.516071  0.506281\n",
      "LinearRegression        0.523840  0.508813\n",
      "LinearRegressionScaled  0.523840  0.508813\n",
      "Benchmark               0.539486  0.519943\n",
      "AdaBoostRegressor       0.576416  0.556818\n"
     ]
    }
   ],
   "source": [
    "from sklearn.preprocessing import StandardScaler\n",
    "scaler = StandardScaler()\n",
    "X_train_scaled = scaler.fit_transform(X_train)\n",
    "X_test_scaled = scaler.transform(X_test)\n",
    "\n",
    "linear_regressor = LinearRegression()\n",
    "model_rmse, model_rmse_train, model_name = check_regressor(linear_regressor, X_train, y_train, X_test, y_test)\n",
    "model_name += 'Scaled'\n",
    "models_errors[model_name] = model_rmse\n",
    "models_errors_train[model_name] = model_rmse_train\n",
    "print(compare_performance())"
   ]
  },
  {
   "cell_type": "markdown",
   "metadata": {},
   "source": [
    "### Lasso"
   ]
  },
  {
   "cell_type": "code",
   "execution_count": 23,
   "metadata": {},
   "outputs": [
    {
     "name": "stdout",
     "output_type": "stream",
     "text": [
      "Lasso: \n",
      " root mean squared error test: 0.5196 \n",
      " root mean squared error train: 0.5386 \n",
      "\n",
      "                           train      test\n",
      "RandomForestRegressor   0.510517  0.502689\n",
      "DecisionTreeRegressor   0.516071  0.506281\n",
      "LinearRegression        0.523840  0.508813\n",
      "LinearRegressionScaled  0.523840  0.508813\n",
      "Lasso                   0.538582  0.519574\n",
      "Benchmark               0.539486  0.519943\n",
      "AdaBoostRegressor       0.576416  0.556818\n"
     ]
    }
   ],
   "source": [
    "from sklearn.linear_model import Lasso\n",
    "\n",
    "lasso = Lasso(alpha=1)\n",
    "model_rmse, model_rmse_train, model_name = check_regressor(lasso, X_train, y_train, X_test, y_test)\n",
    "models_errors[model_name] = model_rmse\n",
    "models_errors_train[model_name] = model_rmse_train\n",
    "print(compare_performance())"
   ]
  },
  {
   "cell_type": "markdown",
   "metadata": {},
   "source": [
    "### Lasso Scaled"
   ]
  },
  {
   "cell_type": "code",
   "execution_count": 24,
   "metadata": {},
   "outputs": [],
   "source": [
    "# scaling the features\n",
    "\n",
    "from sklearn.preprocessing import StandardScaler\n",
    "scaler = StandardScaler()\n",
    "X_train_scaled = scaler.fit_transform(X_train)\n",
    "X_test_scaled = scaler.transform(X_test)"
   ]
  },
  {
   "cell_type": "code",
   "execution_count": 25,
   "metadata": {},
   "outputs": [
    {
     "data": {
      "image/png": "[encoded data removed]",
      "text/plain": [
       "<Figure size 432x288 with 1 Axes>"
      ]
     },
     "metadata": {
      "needs_background": "light"
     },
     "output_type": "display_data"
    }
   ],
   "source": [
    "# finding the best alpha \n",
    "\n",
    "from sklearn.linear_model import Lasso\n",
    "\n",
    "test_rmse =[]\n",
    "train_rmse = []\n",
    "alphas = [x/50 for x in range(1,50)]\n",
    "\n",
    "for a in alphas:\n",
    "    lasso = Lasso(alpha=a)\n",
    "    ada_boost = AdaBoostRegressor(random_state=0, n_estimators=100, base_estimator=base_estimator)\n",
    "    lasso.fit(X_train, y_train)\n",
    "    y_pred = lasso.predict(X_test)\n",
    "    y_pred_train = lasso.predict(X_train)\n",
    "    train_rmse.append(sqrt(mean_squared_error(y_train, y_pred_train)))\n",
    "    test_rmse.append(sqrt(mean_squared_error(y_test, y_pred)))\n",
    "    \n",
    "fig = plt.figure()\n",
    "ax1 = fig.add_subplot(111)\n",
    "\n",
    "ax1.scatter(alphas, train_rmse, s=10, c='b', marker=\"s\", label='Training RMSE')\n",
    "ax1.scatter(alphas ,test_rmse, s=10, c='r', marker=\"o\", label='Testing RMSE')\n",
    "ax1.set_ylabel(\"RMSE\")\n",
    "ax1.set_xlabel(\"alpha\")\n",
    "plt.legend(loc='lower right');\n",
    "plt.show()"
   ]
  },
  {
   "cell_type": "code",
   "execution_count": 26,
   "metadata": {},
   "outputs": [
    {
     "name": "stdout",
     "output_type": "stream",
     "text": [
      "Lasso: \n",
      " root mean squared error test: 0.5136 \n",
      " root mean squared error train: 0.5315 \n",
      "\n",
      "                           train      test\n",
      "RandomForestRegressor   0.510517  0.502689\n",
      "DecisionTreeRegressor   0.516071  0.506281\n",
      "LinearRegression        0.523840  0.508813\n",
      "LinearRegressionScaled  0.523840  0.508813\n",
      "LassoScaled             0.531500  0.513562\n",
      "Lasso                   0.538582  0.519574\n",
      "Benchmark               0.539486  0.519943\n",
      "AdaBoostRegressor       0.576416  0.556818\n"
     ]
    }
   ],
   "source": [
    "from sklearn.linear_model import Lasso\n",
    "\n",
    "lasso = Lasso(alpha=0.02)\n",
    "model_rmse, model_rmse_train, model_name = check_regressor(lasso, X_train_scaled, y_train, X_test_scaled, y_test)\n",
    "model_name += 'Scaled'\n",
    "models_errors[model_name] = model_rmse\n",
    "models_errors_train[model_name] = model_rmse_train\n",
    "print(compare_performance())"
   ]
  },
  {
   "cell_type": "markdown",
   "metadata": {},
   "source": [
    "### KNN Regressor"
   ]
  },
  {
   "cell_type": "code",
   "execution_count": 27,
   "metadata": {},
   "outputs": [
    {
     "data": {
      "image/png": "[encoded data removed]",
      "text/plain": [
       "<Figure size 432x288 with 1 Axes>"
      ]
     },
     "metadata": {
      "needs_background": "light"
     },
     "output_type": "display_data"
    }
   ],
   "source": [
    "from sklearn.neighbors import KNeighborsRegressor\n",
    "\n",
    "test_rmse =[]\n",
    "train_rmse = []\n",
    "k_values = [x for x in range(1,21)]\n",
    "    \n",
    "for k in k_values:\n",
    "    knn = KNeighborsRegressor(n_neighbors=k)\n",
    "    knn.fit(X_train, y_train)\n",
    "    y_pred = knn.predict(X_test)\n",
    "    y_pred_train = knn.predict(X_train)\n",
    "    train_rmse.append(sqrt(mean_squared_error(y_train, y_pred_train)))\n",
    "    test_rmse.append(sqrt(mean_squared_error(y_test, y_pred)))\n",
    "    \n",
    "fig = plt.figure()\n",
    "ax1 = fig.add_subplot(111)\n",
    "ax1.scatter(k_values, train_rmse, s=10, c='b', marker=\"s\", label='Training RMSE')\n",
    "ax1.scatter(k_values ,test_rmse, s=10, c='r', marker=\"o\", label='Testing MSE')\n",
    "ax1.set_ylabel(\"RMSE\")\n",
    "ax1.set_xlabel(\"Number of K neighbors\")\n",
    "plt.legend(loc='lower right');\n",
    "plt.show()\n"
   ]
  },
  {
   "cell_type": "markdown",
   "metadata": {},
   "source": [
    "from the table above we can see that KNN have the best preformences on the test set with K = 15 and above. we will choose K = 15"
   ]
  },
  {
   "cell_type": "code",
   "execution_count": 28,
   "metadata": {},
   "outputs": [
    {
     "name": "stdout",
     "output_type": "stream",
     "text": [
      "KNeighborsRegressor: \n",
      " root mean squared error test: 0.5106 \n",
      " root mean squared error train: 0.4734 \n",
      "\n",
      "                           train      test\n",
      "RandomForestRegressor   0.510517  0.502689\n",
      "DecisionTreeRegressor   0.516071  0.506281\n",
      "LinearRegression        0.523840  0.508813\n",
      "LinearRegressionScaled  0.523840  0.508813\n",
      "KNeighborsRegressor     0.473439  0.510636\n",
      "LassoScaled             0.531500  0.513562\n",
      "Lasso                   0.538582  0.519574\n",
      "Benchmark               0.539486  0.519943\n",
      "AdaBoostRegressor       0.576416  0.556818\n"
     ]
    }
   ],
   "source": [
    "from sklearn.neighbors import KNeighborsRegressor\n",
    "\n",
    "k = 10\n",
    "nearest_neighbors = KNeighborsRegressor(k)\n",
    "model_rmse, model_rmse_train, model_name = check_regressor(nearest_neighbors, X_train, y_train, X_test, y_test)\n",
    "models_errors[model_name] = model_rmse\n",
    "models_errors_train[model_name] = model_rmse_train\n",
    "print(compare_performance())"
   ]
  },
  {
   "cell_type": "markdown",
   "metadata": {},
   "source": [
    "### KNN Scaled Regresor"
   ]
  },
  {
   "cell_type": "code",
   "execution_count": 29,
   "metadata": {},
   "outputs": [],
   "source": [
    "from sklearn.preprocessing import StandardScaler\n",
    "\n",
    "scaler = StandardScaler()\n",
    "X_train_scaled = scaler.fit_transform(X_train)\n",
    "X_test_scaled = scaler.transform(X_test)"
   ]
  },
  {
   "cell_type": "code",
   "execution_count": 30,
   "metadata": {
    "scrolled": true
   },
   "outputs": [
    {
     "data": {
      "image/png": "[encoded data removed]",
      "text/plain": [
       "<Figure size 432x288 with 1 Axes>"
      ]
     },
     "metadata": {
      "needs_background": "light"
     },
     "output_type": "display_data"
    }
   ],
   "source": [
    "from sklearn.neighbors import KNeighborsRegressor\n",
    "\n",
    "test_rmse =[]\n",
    "train_rmse = []\n",
    "k_values = [x for x in range(1,21)]\n",
    "\n",
    "for k in k_values:\n",
    "    knn = KNeighborsRegressor(n_neighbors=k)\n",
    "    knn.fit(X_train_scaled, y_train)\n",
    "    y_pred = knn.predict(X_test_scaled)\n",
    "    y_pred_train = knn.predict(X_train_scaled)\n",
    "    train_rmse.append(sqrt(mean_squared_error(y_train, y_pred_train)))\n",
    "    test_rmse.append(sqrt(mean_squared_error(y_test, y_pred)))\n",
    "    \n",
    "fig = plt.figure()\n",
    "ax1 = fig.add_subplot(111)\n",
    "ax1.scatter(k_values, train_rmse, s=10, c='b', marker=\"s\", label='Training RMSE')\n",
    "ax1.scatter(k_values ,test_rmse, s=10, c='r', marker=\"o\", label='Testing MSE')\n",
    "ax1.set_ylabel(\"RMSE\")\n",
    "ax1.set_xlabel(\"Number of K neighbors\")\n",
    "plt.legend(loc='lower right');\n",
    "plt.show()\n"
   ]
  },
  {
   "cell_type": "code",
   "execution_count": 31,
   "metadata": {
    "scrolled": true
   },
   "outputs": [
    {
     "name": "stdout",
     "output_type": "stream",
     "text": [
      "KNeighborsRegressor: \n",
      " root mean squared error test: 0.5121 \n",
      " root mean squared error train: 0.4845 \n",
      "\n",
      "                              train      test\n",
      "RandomForestRegressor      0.510517  0.502689\n",
      "DecisionTreeRegressor      0.516071  0.506281\n",
      "LinearRegression           0.523840  0.508813\n",
      "LinearRegressionScaled     0.523840  0.508813\n",
      "KNeighborsRegressor        0.473439  0.510636\n",
      "KNeighborsRegressorScaled  0.484492  0.512146\n",
      "LassoScaled                0.531500  0.513562\n",
      "Lasso                      0.538582  0.519574\n",
      "Benchmark                  0.539486  0.519943\n",
      "AdaBoostRegressor          0.576416  0.556818\n"
     ]
    }
   ],
   "source": [
    "\n",
    "k = 10\n",
    "nearest_neighbors = KNeighborsRegressor(k)\n",
    "model_rmse, model_rmse_train, model_name = check_regressor(nearest_neighbors, X_train_scaled, y_train, X_test_scaled, y_test)\n",
    "model_name += 'Scaled'\n",
    "models_errors[model_name] = model_rmse\n",
    "models_errors_train[model_name] = model_rmse_train\n",
    "print(compare_performance())"
   ]
  },
  {
   "cell_type": "markdown",
   "metadata": {},
   "source": [
    "### Checking which model is the best"
   ]
  },
  {
   "cell_type": "code",
   "execution_count": 32,
   "metadata": {},
   "outputs": [
    {
     "data": {
      "text/html": [
       "<div>\n",
       "<style scoped>\n",
       "    .dataframe tbody tr th:only-of-type {\n",
       "        vertical-align: middle;\n",
       "    }\n",
       "\n",
       "    .dataframe tbody tr th {\n",
       "        vertical-align: top;\n",
       "    }\n",
       "\n",
       "    .dataframe thead th {\n",
       "        text-align: right;\n",
       "    }\n",
       "</style>\n",
       "<table border=\"1\" class=\"dataframe\">\n",
       "  <thead>\n",
       "    <tr style=\"text-align: right;\">\n",
       "      <th></th>\n",
       "      <th>train</th>\n",
       "      <th>test</th>\n",
       "    </tr>\n",
       "  </thead>\n",
       "  <tbody>\n",
       "    <tr>\n",
       "      <td>RandomForestRegressor</td>\n",
       "      <td>0.510517</td>\n",
       "      <td>0.502689</td>\n",
       "    </tr>\n",
       "    <tr>\n",
       "      <td>DecisionTreeRegressor</td>\n",
       "      <td>0.516071</td>\n",
       "      <td>0.506281</td>\n",
       "    </tr>\n",
       "    <tr>\n",
       "      <td>LinearRegression</td>\n",
       "      <td>0.523840</td>\n",
       "      <td>0.508813</td>\n",
       "    </tr>\n",
       "    <tr>\n",
       "      <td>LinearRegressionScaled</td>\n",
       "      <td>0.523840</td>\n",
       "      <td>0.508813</td>\n",
       "    </tr>\n",
       "    <tr>\n",
       "      <td>KNeighborsRegressor</td>\n",
       "      <td>0.473439</td>\n",
       "      <td>0.510636</td>\n",
       "    </tr>\n",
       "    <tr>\n",
       "      <td>KNeighborsRegressorScaled</td>\n",
       "      <td>0.484492</td>\n",
       "      <td>0.512146</td>\n",
       "    </tr>\n",
       "    <tr>\n",
       "      <td>LassoScaled</td>\n",
       "      <td>0.531500</td>\n",
       "      <td>0.513562</td>\n",
       "    </tr>\n",
       "    <tr>\n",
       "      <td>Lasso</td>\n",
       "      <td>0.538582</td>\n",
       "      <td>0.519574</td>\n",
       "    </tr>\n",
       "    <tr>\n",
       "      <td>Benchmark</td>\n",
       "      <td>0.539486</td>\n",
       "      <td>0.519943</td>\n",
       "    </tr>\n",
       "    <tr>\n",
       "      <td>AdaBoostRegressor</td>\n",
       "      <td>0.576416</td>\n",
       "      <td>0.556818</td>\n",
       "    </tr>\n",
       "  </tbody>\n",
       "</table>\n",
       "</div>"
      ],
      "text/plain": [
       "                              train      test\n",
       "RandomForestRegressor      0.510517  0.502689\n",
       "DecisionTreeRegressor      0.516071  0.506281\n",
       "LinearRegression           0.523840  0.508813\n",
       "LinearRegressionScaled     0.523840  0.508813\n",
       "KNeighborsRegressor        0.473439  0.510636\n",
       "KNeighborsRegressorScaled  0.484492  0.512146\n",
       "LassoScaled                0.531500  0.513562\n",
       "Lasso                      0.538582  0.519574\n",
       "Benchmark                  0.539486  0.519943\n",
       "AdaBoostRegressor          0.576416  0.556818"
      ]
     },
     "execution_count": 32,
     "metadata": {},
     "output_type": "execute_result"
    }
   ],
   "source": [
    "compare_performance()\n"
   ]
  },
  {
   "cell_type": "markdown",
   "metadata": {},
   "source": [
    "8) a"
   ]
  },
  {
   "cell_type": "code",
   "execution_count": 33,
   "metadata": {},
   "outputs": [
    {
     "data": {
      "image/png": "[encoded data removed]",
      "text/plain": [
       "<Figure size 432x288 with 1 Axes>"
      ]
     },
     "metadata": {
      "needs_background": "light"
     },
     "output_type": "display_data"
    }
   ],
   "source": [
    "from sklearn.model_selection import train_test_split\n",
    "from sklearn.ensemble import RandomForestRegressor\n",
    "\n",
    "test_sizes = [x/100 for x in range(1,100,5)]\n",
    "train_rmse = []\n",
    "test_rmse = []\n",
    "for size in test_sizes:\n",
    "    train, test = train_test_split(apps, test_size=size, random_state=0, shuffle=True)\n",
    "    label = 'Rating'\n",
    "    X_train, y_train = train.drop(label, axis=1), train[label]\n",
    "    X_test, y_test = test.drop(label, axis=1), test[label]\n",
    "\n",
    "    forest = RandomForestRegressor(n_estimators=100, random_state=0, max_depth=3)\n",
    "    forest.fit(X_train, y_train)\n",
    "    y_pred = forest.predict(X_test)\n",
    "    y_pred_train = forest.predict(X_train)\n",
    "    train_rmse.append(sqrt(mean_squared_error(y_train, y_pred_train)))\n",
    "    test_rmse.append(sqrt(mean_squared_error(y_test, y_pred)))\n",
    "    \n",
    "fig = plt.figure()\n",
    "ax1 = fig.add_subplot(111)\n",
    "\n",
    "ax1.scatter(test_sizes, train_rmse, s=10, c='b', marker=\"s\", label='Training RMSE')\n",
    "ax1.scatter(test_sizes ,test_rmse, s=10, c='r', marker=\"o\", label='Testing RMSE')\n",
    "ax1.set_ylabel(\"RMSE\")\n",
    "ax1.set_xlabel(\"test_size\")\n",
    "plt.legend(loc='lower right');\n",
    "plt.show()\n",
    "\n"
   ]
  }
 ],
 "metadata": {
  "kernelspec": {
   "display_name": "Python 3",
   "language": "python",
   "name": "python3"
  },
  "language_info": {
   "codemirror_mode": {
    "name": "ipython",
    "version": 3
   },
   "file_extension": ".py",
   "mimetype": "text/x-python",
   "name": "python",
   "nbconvert_exporter": "python",
   "pygments_lexer": "ipython3",
   "version": "3.7.4"
  }
 },
 "nbformat": 4,
 "nbformat_minor": 2
}
